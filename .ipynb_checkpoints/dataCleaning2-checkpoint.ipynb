{
 "cells": [
  {
   "cell_type": "code",
   "execution_count": 1,
   "metadata": {},
   "outputs": [],
   "source": [
    "import pandas as pd\n",
    "import numpy as np\n",
    "\n",
    "pd.set_option('display.max_columns', None)"
   ]
  },
  {
   "cell_type": "code",
   "execution_count": 2,
   "metadata": {},
   "outputs": [],
   "source": [
    "df = pd.read_csv('./data/CSV/data.csv')"
   ]
  },
  {
   "cell_type": "code",
   "execution_count": 3,
   "metadata": {},
   "outputs": [
    {
     "name": "stdout",
     "output_type": "stream",
     "text": [
      "Previous_owners: ['1' '2' nan '00' '0' 'يد ثانية' '4' 'يد ثانيه' '3' 'ثالثة'\n",
      " 'غير منمر استيراد الماني' 'غير منمرة' '٨' 'يد ثالثة' 'ثانية' 'يد سادسة'\n",
      " '5' 'صفر' '9' '0000' 'رابعه' '٤' 'يد رابعة' '٢' 'يد ثالثه' '6' '7' '...'\n",
      " '......' 'ثانيه' 'واحد' 'اربعة' 'اولا' '٣' 'غير منمره' 'يد تالته' '٦'\n",
      " 'يد رابعه' 'يد ثالثة ( فتيات)' '159000' '12' '-' 'مش منمر' '0 مستورده'\n",
      " 'يد تانيه' '10' 'مستورد' 'يد 4' '00000' 'استيراد مباشر من كوريا'\n",
      " 'يد خامسة' '٥' 'يد 5' '********' 'نعم' 'مش منمرة' 'يد 3' 'يد خامسه' '٩'\n",
      " '٧' 'للبيع' '8' 'مش منمره' 'ثالثه' '11' '٠' 'رابعة' 'منمره' '0مستورد'\n",
      " '03' 'يد 2' 'يد عاشره' 'يدثانيه' 'لا يوجد' '56' '.' '١١' 'لايوجد'\n",
      " 'مستورد شركة' '13' '١٠' 'ايد ثانيه' 'يد صفر' 'استيراد الماني' '16'\n",
      " 'غير منمر' '17' 'يد تاسعة' 'مستود غير منمر' 'يد ٢' 'اثنان' 'يد3'\n",
      " '0استيراد' 'يد تاني' 'يد ثني' '.........' 'يدثالثة' 'يد خامساً' '000000'\n",
      " 'اصحاب سابقون صفر' 'يد4' '000' 'يد ٤ بس نخب السيارة' 'يد ثالث' 'مش منمرا'\n",
      " '78888877766' '١٥' 'يد ثاتيه' '**********' 'مستوردة غير مرخصة' 'يد تانية'\n",
      " '170000' '15' '١٢' 'مستوردة' 'صفرض' '0 مستورد كوري' 'ايد 2' '٠٠٠٠' '١٨'\n",
      " 'يد ٤' 'أيد تانية' '@' 'يدثانية' '٠٠٠٠٠٠٠٠٠' 'استراد شخصي' '00000000'\n",
      " '٠٠٠٠٠٠' '******' 'تانيه' '٠٠٠٠٠٠٠٠٠٠' 'يد خمسة' 'خمسه' 'استيراد كوري'\n",
      " 'يد6' '2يد' '٠٠' 'يدتانيه' 'يدخامسه' '....' 'يد 6'\n",
      " 'من الشركه مباشر لا يوجد اصحاب سابقون' 'استيراد' '123423' 'عدد٣' 'يد٤'\n",
      " 'اصل تدريب سواقه' 'تالته' 'يد أولى بعد الاستيراد' 'يد ٣' 'يد ثاني'\n",
      " 'يد ١٧' 'انا' '١٧' 'يد أولى 1' 'يد أولي' 'ثانبه' 'يد سابعة' '٠٠٠٠٠٠٠٠'\n",
      " 'اشخاص' 'يد ثاني.' 'يد 0' 'يد ثامنه' 'ايد ثانية' 'ثمانيه' 'ايد رابعه'\n",
      " 'ثالث' 'استيراد كوريا' 'تانبه' 'استيراد مباشر من اوروبا' 'يد أولئ' 'يد٢'\n",
      " 'خمسة' 'يد اولى فقط' 'وارد المانيا' 'خامسة' 'يد ثانيا' 'خمس' 'استراد'\n",
      " 'يدثالثه' 'يد أولى،...' 'اولى\\x89' 'تاني' 'Ooo' 'يد2' '٠٠٠٠٠' 'يد ا'\n",
      " 'يد اوله' 'ايدثانيه' 'ثاني' 'فقط يد اولى' 'يد٣' 'سحب شركة'\n",
      " 'يد اولى، استيراد شخصي' 'شطب' 'ا' 'يد اولئ' 'يد اولى ( شركة )' 'مستورده'\n",
      " '14' 'يد التالته' '04' 'يد اربعه' '12345' 'O' 'يد٥' 'يد  ثانية' '1000'\n",
      " 'يد سابعه' 'ايد ثالثه' 'يدأولى' 'صفرر' 'يد ٧' 'خامسه' '، 0' '٠٠٠٠٩'\n",
      " 'استيراد مباشر' 'اصل شركة' 'يد ٥' 'يد 8' '؟' '18' 'مستوردة غير منمرة'\n",
      " 'يد ١' 'يد واحدة' 'استيراد كوريا - جديد مش منمر' 'تالثه' '0778244'\n",
      " 'يداولى سحب شركه' '..' 'يد اولى استيراد شخصي' 'E' 'يد' '19' '11111'\n",
      " '0 استيراد كوري' 'ايد أولى' '0000000' 'استيراد المانيا' 'تانية' 'يديانيه'\n",
      " 'سابعه' ',3' 'يد اولة' '01' '?' 'يد  ١' '٠٠٠٠٠٠٠' 'مشطوب'\n",
      " 'يد اولى الماني' 'يد اولىً' 'ايد ثالثة' 'غير منمرمستوردة' 'لا شيء'\n",
      " 'خصوصي' 'يد واحد' 'يد اةلي' '،' 'يدى اوله' 'مش منمر . (صفر)'\n",
      " 'أستيراد ألماني' '---' 'Zero' 'يد ٩' 'ايد 3' 'الثانية' 'يد ثالثي' '٤٤٤٤٤'\n",
      " '4 نفس الشخص' 'يد عاشرة' 'بد اولى مستورد' 'ثالثى' '0 استيراد']\n"
     ]
    }
   ],
   "source": [
    "columns_of_interest = ['Previous_owners']\n",
    "\n",
    "for column in columns_of_interest:\n",
    "    unique_values = df[column].unique()[:1000]\n",
    "    print(f\"{column}: {unique_values}\")"
   ]
  },
  {
   "cell_type": "code",
   "execution_count": 4,
   "metadata": {},
   "outputs": [],
   "source": [
    "import re\n",
    "\n",
    "def clean_previous_owners(value):\n",
    "    word_to_number = {\n",
    "        'صفر': 0,\n",
    "        'Zero': 0,\n",
    "        'غير منمر': 0,\n",
    "        'استيراد': 0,\n",
    "        'مستورد': 0,\n",
    "        'اول': 1,\n",
    "        'ثاني': 2,\n",
    "        'ثالث': 3,\n",
    "        'رابع': 4,\n",
    "        'خامس': 5,\n",
    "        'سادس': 6,\n",
    "        'سابع': 7,\n",
    "        'ثامن': 8,\n",
    "        'تاسع': 9,\n",
    "        'عاشر': 10,\n",
    "        'حادي عشر': 11,   \n",
    "    }\n",
    "    \n",
    "    digits = re.findall(r'\\b\\d+\\b', str(value))\n",
    "    \n",
    "    if digits:\n",
    "        return int(digits[0])\n",
    "    else:\n",
    "        for word, number in word_to_number.items():\n",
    "            if word in str(value):\n",
    "                return number\n",
    "        return None\n",
    "\n",
    "df['Previous_owners'] = df['Previous_owners'].apply(clean_previous_owners)"
   ]
  },
  {
   "cell_type": "code",
   "execution_count": 5,
   "metadata": {},
   "outputs": [],
   "source": [
    "df['Previous_owners'] = pd.to_numeric(df['Previous_owners'], errors='coerce').astype('Int64')"
   ]
  },
  {
   "cell_type": "code",
   "execution_count": 6,
   "metadata": {},
   "outputs": [],
   "source": [
    "df.to_csv('./data/CSV/data.csv', index=False)"
   ]
  },
  {
   "cell_type": "code",
   "execution_count": 7,
   "metadata": {},
   "outputs": [
    {
     "name": "stdout",
     "output_type": "stream",
     "text": [
      "Previous_owners: <IntegerArray>\n",
      "[          1,           2,        <NA>,           0,           4,           3,\n",
      "           8,           6,           5,           9,           7,      159000,\n",
      "          12,          10,          11,          56,          13,          16,\n",
      "          17, 78888877766,          15,      170000,          18,      123423,\n",
      "          14,       12345,        1000,      778244,          19,       11111,\n",
      "       44444]\n",
      "Length: 31, dtype: Int64\n"
     ]
    }
   ],
   "source": [
    "columns_of_interest = ['Previous_owners']\n",
    "\n",
    "for column in columns_of_interest:\n",
    "    unique_values = df[column].unique()[:2000]\n",
    "    print(f\"{column}: {unique_values}\")"
   ]
  },
  {
   "cell_type": "code",
   "execution_count": 8,
   "metadata": {},
   "outputs": [
    {
     "name": "stdout",
     "output_type": "stream",
     "text": [
      "Previous_owners Counts:\n",
      "1: 1527\n",
      "2: 1197\n",
      "3: 763\n",
      "0: 688\n",
      "4: 373\n",
      "5: 224\n",
      "6: 89\n",
      "7: 58\n",
      "8: 33\n",
      "9: 28\n",
      "10: 21\n",
      "12: 15\n",
      "11: 14\n",
      "15: 4\n",
      "12345: 3\n",
      "18: 3\n",
      "17: 3\n",
      "13: 2\n",
      "78888877766: 1\n",
      "16: 1\n",
      "170000: 1\n",
      "56: 1\n",
      "123423: 1\n",
      "14: 1\n",
      "159000: 1\n",
      "1000: 1\n",
      "778244: 1\n",
      "19: 1\n",
      "11111: 1\n",
      "44444: 1\n"
     ]
    }
   ],
   "source": [
    "value_counts = df['Previous_owners'].value_counts()\n",
    "\n",
    "print(\"Previous_owners Counts:\")\n",
    "for value, count in zip(value_counts.index, value_counts.values):\n",
    "    print(f\"{value}: {count}\")"
   ]
  },
  {
   "cell_type": "code",
   "execution_count": 9,
   "metadata": {},
   "outputs": [],
   "source": [
    "df['Previous_owners'] = pd.to_numeric(df['Previous_owners'], errors='coerce')\n",
    "\n",
    "df.loc[df['Previous_owners'] > 10, 'Previous_owners'] = np.nan"
   ]
  },
  {
   "cell_type": "code",
   "execution_count": 10,
   "metadata": {},
   "outputs": [
    {
     "name": "stdout",
     "output_type": "stream",
     "text": [
      "Previous_owners Counts:\n",
      "1: 1527\n",
      "2: 1197\n",
      "3: 763\n",
      "0: 688\n",
      "4: 373\n",
      "5: 224\n",
      "6: 89\n",
      "7: 58\n",
      "8: 33\n",
      "9: 28\n",
      "10: 21\n"
     ]
    }
   ],
   "source": [
    "value_counts = df['Previous_owners'].value_counts()\n",
    "\n",
    "print(\"Previous_owners Counts:\")\n",
    "for value, count in zip(value_counts.index, value_counts.values):\n",
    "    print(f\"{value}: {count}\")"
   ]
  },
  {
   "cell_type": "code",
   "execution_count": 11,
   "metadata": {},
   "outputs": [
    {
     "data": {
      "text/plain": [
       "Car                   0\n",
       "Year                  0\n",
       "Price                 0\n",
       "Color                 0\n",
       "Fuel                  0\n",
       "Origin                0\n",
       "License               0\n",
       "Gear                  0\n",
       "Glass                 0\n",
       "Power                 0\n",
       "Meter              1941\n",
       "Passengers            0\n",
       "Payment               0\n",
       "Sale                  0\n",
       "Previous_owners    1863\n",
       "Additions             0\n",
       "dtype: int64"
      ]
     },
     "execution_count": 11,
     "metadata": {},
     "output_type": "execute_result"
    }
   ],
   "source": [
    "df.isna().sum()"
   ]
  },
  {
   "cell_type": "code",
   "execution_count": 13,
   "metadata": {},
   "outputs": [
    {
     "data": {
      "text/plain": [
       "count      5001.0\n",
       "mean     2.097181\n",
       "std      1.748186\n",
       "min           0.0\n",
       "25%           1.0\n",
       "50%           2.0\n",
       "75%           3.0\n",
       "max          10.0\n",
       "Name: Previous_owners, dtype: Float64"
      ]
     },
     "execution_count": 13,
     "metadata": {},
     "output_type": "execute_result"
    }
   ],
   "source": [
    "df['Previous_owners'].describe()"
   ]
  },
  {
   "cell_type": "code",
   "execution_count": 14,
   "metadata": {},
   "outputs": [
    {
     "name": "stdout",
     "output_type": "stream",
     "text": [
      "2\n"
     ]
    }
   ],
   "source": [
    "mean_previous_owners = df['Previous_owners'].mean()\n",
    "print(mean_previous_owners.astype(int))\n",
    "\n",
    "df['Previous_owners'].fillna(mean_previous_owners.astype(int), inplace=True)"
   ]
  },
  {
   "cell_type": "code",
   "execution_count": 15,
   "metadata": {},
   "outputs": [
    {
     "data": {
      "text/plain": [
       "Car                   0\n",
       "Year                  0\n",
       "Price                 0\n",
       "Color                 0\n",
       "Fuel                  0\n",
       "Origin                0\n",
       "License               0\n",
       "Gear                  0\n",
       "Glass                 0\n",
       "Power                 0\n",
       "Meter              1941\n",
       "Passengers            0\n",
       "Payment               0\n",
       "Sale                  0\n",
       "Previous_owners       0\n",
       "Additions             0\n",
       "dtype: int64"
      ]
     },
     "execution_count": 15,
     "metadata": {},
     "output_type": "execute_result"
    }
   ],
   "source": [
    "df.isna().sum()"
   ]
  },
  {
   "cell_type": "code",
   "execution_count": 16,
   "metadata": {},
   "outputs": [],
   "source": [
    "df.to_csv('./data/CSV/data.csv', index=False)"
   ]
  },
  {
   "cell_type": "code",
   "execution_count": 1,
   "metadata": {},
   "outputs": [],
   "source": [
    "import pandas as pd\n",
    "import numpy as np\n",
    "\n",
    "pd.set_option('display.max_columns', None)"
   ]
  },
  {
   "cell_type": "code",
   "execution_count": 2,
   "metadata": {},
   "outputs": [],
   "source": [
    "df = pd.read_csv('./data/CSV/data.csv')"
   ]
  },
  {
   "cell_type": "code",
   "execution_count": 3,
   "metadata": {},
   "outputs": [
    {
     "name": "stdout",
     "output_type": "stream",
     "text": [
      "Previous_owners: ['1' '2' nan '00' '0' 'يد ثانية' '4' 'يد ثانيه' '3' 'ثالثة'\n",
      " 'غير منمر استيراد الماني' 'غير منمرة' '٨' 'يد ثالثة' 'ثانية' 'يد سادسة'\n",
      " '5' 'صفر' '9' '0000' 'رابعه' '٤' 'يد رابعة' '٢' 'يد ثالثه' '6' '7' '...'\n",
      " '......' 'ثانيه' 'واحد' 'اربعة' 'اولا' '٣' 'غير منمره' 'يد تالته' '٦'\n",
      " 'يد رابعه' 'يد ثالثة ( فتيات)' '159000' '12' '-' 'مش منمر' '0 مستورده'\n",
      " 'يد تانيه' '10' 'مستورد' 'يد 4' '00000' 'استيراد مباشر من كوريا'\n",
      " 'يد خامسة' '٥' 'يد 5' '********' 'نعم' 'مش منمرة' 'يد 3' 'يد خامسه' '٩'\n",
      " '٧' 'للبيع' '8' 'مش منمره' 'ثالثه' '11' '٠' 'رابعة' 'منمره' '0مستورد'\n",
      " '03' 'يد 2' 'يد عاشره' 'يدثانيه' 'لا يوجد' '56' '.' '١١' 'لايوجد'\n",
      " 'مستورد شركة' '13' '١٠' 'ايد ثانيه' 'يد صفر' 'استيراد الماني' '16'\n",
      " 'غير منمر' '17' 'يد تاسعة' 'مستود غير منمر' 'يد ٢' 'اثنان' 'يد3'\n",
      " '0استيراد' 'يد تاني' 'يد ثني' '.........' 'يدثالثة' 'يد خامساً' '000000'\n",
      " 'اصحاب سابقون صفر' 'يد4' '000' 'يد ٤ بس نخب السيارة' 'يد ثالث' 'مش منمرا'\n",
      " '78888877766' '١٥' 'يد ثاتيه' '**********' 'مستوردة غير مرخصة' 'يد تانية'\n",
      " '170000' '15' '١٢' 'مستوردة' 'صفرض' '0 مستورد كوري' 'ايد 2' '٠٠٠٠' '١٨'\n",
      " 'يد ٤' 'أيد تانية' '@' 'يدثانية' '٠٠٠٠٠٠٠٠٠' 'استراد شخصي' '00000000'\n",
      " '٠٠٠٠٠٠' '******' 'تانيه' '٠٠٠٠٠٠٠٠٠٠' 'يد خمسة' 'خمسه' 'استيراد كوري'\n",
      " 'يد6' '2يد' '٠٠' 'يدتانيه' 'يدخامسه' '....' 'يد 6'\n",
      " 'من الشركه مباشر لا يوجد اصحاب سابقون' 'استيراد' '123423' 'عدد٣' 'يد٤'\n",
      " 'اصل تدريب سواقه' 'تالته' 'يد أولى بعد الاستيراد' 'يد ٣' 'يد ثاني'\n",
      " 'يد ١٧' 'انا' '١٧' 'يد أولى 1' 'يد أولي' 'ثانبه' 'يد سابعة' '٠٠٠٠٠٠٠٠'\n",
      " 'اشخاص' 'يد ثاني.' 'يد 0' 'يد ثامنه' 'ايد ثانية' 'ثمانيه' 'ايد رابعه'\n",
      " 'ثالث' 'استيراد كوريا' 'تانبه' 'استيراد مباشر من اوروبا' 'يد أولئ' 'يد٢'\n",
      " 'خمسة' 'يد اولى فقط' 'وارد المانيا' 'خامسة' 'يد ثانيا' 'خمس' 'استراد'\n",
      " 'يدثالثه' 'يد أولى،...' 'اولى\\x89' 'تاني' 'Ooo' 'يد2' '٠٠٠٠٠' 'يد ا'\n",
      " 'يد اوله' 'ايدثانيه' 'ثاني' 'فقط يد اولى' 'يد٣' 'سحب شركة'\n",
      " 'يد اولى، استيراد شخصي' 'شطب' 'ا' 'يد اولئ' 'يد اولى ( شركة )' 'مستورده'\n",
      " '14' 'يد التالته' '04' 'يد اربعه' '12345' 'O' 'يد٥' 'يد  ثانية' '1000'\n",
      " 'يد سابعه' 'ايد ثالثه' 'يدأولى' 'صفرر' 'يد ٧' 'خامسه' '، 0' '٠٠٠٠٩'\n",
      " 'استيراد مباشر' 'اصل شركة' 'يد ٥' 'يد 8' '؟' '18' 'مستوردة غير منمرة'\n",
      " 'يد ١' 'يد واحدة' 'استيراد كوريا - جديد مش منمر' 'تالثه' '0778244'\n",
      " 'يداولى سحب شركه' '..' 'يد اولى استيراد شخصي' 'E' 'يد' '19' '11111'\n",
      " '0 استيراد كوري' 'ايد أولى' '0000000' 'استيراد المانيا' 'تانية' 'يديانيه'\n",
      " 'سابعه' ',3' 'يد اولة' '01' '?' 'يد  ١' '٠٠٠٠٠٠٠' 'مشطوب'\n",
      " 'يد اولى الماني' 'يد اولىً' 'ايد ثالثة' 'غير منمرمستوردة' 'لا شيء'\n",
      " 'خصوصي' 'يد واحد' 'يد اةلي' '،' 'يدى اوله' 'مش منمر . (صفر)'\n",
      " 'أستيراد ألماني' '---' 'Zero' 'يد ٩' 'ايد 3' 'الثانية' 'يد ثالثي' '٤٤٤٤٤'\n",
      " '4 نفس الشخص' 'يد عاشرة' 'بد اولى مستورد' 'ثالثى' '0 استيراد']\n"
     ]
    }
   ],
   "source": [
    "columns_of_interest = ['Previous_owners']\n",
    "\n",
    "for column in columns_of_interest:\n",
    "    unique_values = df[column].unique()[:1000]\n",
    "    print(f\"{column}: {unique_values}\")"
   ]
  },
  {
   "cell_type": "code",
   "execution_count": 4,
   "metadata": {},
   "outputs": [],
   "source": [
    "import re\n",
    "\n",
    "def clean_previous_owners(value):\n",
    "    word_to_number = {\n",
    "        'صفر': 0,\n",
    "        'Zero': 0,\n",
    "        'غير منمر': 0,\n",
    "        'استيراد': 0,\n",
    "        'مستورد': 0,\n",
    "        'اول': 1,\n",
    "        'ثاني': 2,\n",
    "        'ثالث': 3,\n",
    "        'رابع': 4,\n",
    "        'خامس': 5,\n",
    "        'سادس': 6,\n",
    "        'سابع': 7,\n",
    "        'ثامن': 8,\n",
    "        'تاسع': 9,\n",
    "        'عاشر': 10,\n",
    "        'حادي عشر': 11,   \n",
    "    }\n",
    "    \n",
    "    digits = re.findall(r'\\b\\d+\\b', str(value))\n",
    "    \n",
    "    if digits:\n",
    "        return int(digits[0])\n",
    "    else:\n",
    "        for word, number in word_to_number.items():\n",
    "            if word in str(value):\n",
    "                return number\n",
    "        return None\n",
    "\n",
    "df['Previous_owners'] = df['Previous_owners'].apply(clean_previous_owners)"
   ]
  },
  {
   "cell_type": "code",
   "execution_count": 5,
   "metadata": {},
   "outputs": [],
   "source": [
    "df['Previous_owners'] = pd.to_numeric(df['Previous_owners'], errors='coerce').astype('Int64')"
   ]
  },
  {
   "cell_type": "code",
   "execution_count": 6,
   "metadata": {},
   "outputs": [],
   "source": [
    "df.to_csv('./data/CSV/data.csv', index=False)"
   ]
  },
  {
   "cell_type": "code",
   "execution_count": 7,
   "metadata": {},
   "outputs": [
    {
     "name": "stdout",
     "output_type": "stream",
     "text": [
      "Previous_owners: <IntegerArray>\n",
      "[          1,           2,        <NA>,           0,           4,           3,\n",
      "           8,           6,           5,           9,           7,      159000,\n",
      "          12,          10,          11,          56,          13,          16,\n",
      "          17, 78888877766,          15,      170000,          18,      123423,\n",
      "          14,       12345,        1000,      778244,          19,       11111,\n",
      "       44444]\n",
      "Length: 31, dtype: Int64\n"
     ]
    }
   ],
   "source": [
    "columns_of_interest = ['Previous_owners']\n",
    "\n",
    "for column in columns_of_interest:\n",
    "    unique_values = df[column].unique()[:2000]\n",
    "    print(f\"{column}: {unique_values}\")"
   ]
  },
  {
   "cell_type": "code",
   "execution_count": 8,
   "metadata": {},
   "outputs": [
    {
     "name": "stdout",
     "output_type": "stream",
     "text": [
      "Previous_owners Counts:\n",
      "1: 1527\n",
      "2: 1197\n",
      "3: 763\n",
      "0: 688\n",
      "4: 373\n",
      "5: 224\n",
      "6: 89\n",
      "7: 58\n",
      "8: 33\n",
      "9: 28\n",
      "10: 21\n",
      "12: 15\n",
      "11: 14\n",
      "15: 4\n",
      "12345: 3\n",
      "18: 3\n",
      "17: 3\n",
      "13: 2\n",
      "78888877766: 1\n",
      "16: 1\n",
      "170000: 1\n",
      "56: 1\n",
      "123423: 1\n",
      "14: 1\n",
      "159000: 1\n",
      "1000: 1\n",
      "778244: 1\n",
      "19: 1\n",
      "11111: 1\n",
      "44444: 1\n"
     ]
    }
   ],
   "source": [
    "value_counts = df['Previous_owners'].value_counts()\n",
    "\n",
    "print(\"Previous_owners Counts:\")\n",
    "for value, count in zip(value_counts.index, value_counts.values):\n",
    "    print(f\"{value}: {count}\")"
   ]
  },
  {
   "cell_type": "code",
   "execution_count": 9,
   "metadata": {},
   "outputs": [],
   "source": [
    "df['Previous_owners'] = pd.to_numeric(df['Previous_owners'], errors='coerce')\n",
    "\n",
    "df.loc[df['Previous_owners'] > 10, 'Previous_owners'] = np.nan"
   ]
  },
  {
   "cell_type": "code",
   "execution_count": 10,
   "metadata": {},
   "outputs": [
    {
     "name": "stdout",
     "output_type": "stream",
     "text": [
      "Previous_owners Counts:\n",
      "1: 1527\n",
      "2: 1197\n",
      "3: 763\n",
      "0: 688\n",
      "4: 373\n",
      "5: 224\n",
      "6: 89\n",
      "7: 58\n",
      "8: 33\n",
      "9: 28\n",
      "10: 21\n"
     ]
    }
   ],
   "source": [
    "value_counts = df['Previous_owners'].value_counts()\n",
    "\n",
    "print(\"Previous_owners Counts:\")\n",
    "for value, count in zip(value_counts.index, value_counts.values):\n",
    "    print(f\"{value}: {count}\")"
   ]
  },
  {
   "cell_type": "code",
   "execution_count": 11,
   "metadata": {},
   "outputs": [
    {
     "data": {
      "text/plain": [
       "Car                   0\n",
       "Year                  0\n",
       "Price                 0\n",
       "Color                 0\n",
       "Fuel                  0\n",
       "Origin                0\n",
       "License               0\n",
       "Gear                  0\n",
       "Glass                 0\n",
       "Power                 0\n",
       "Meter              1941\n",
       "Passengers            0\n",
       "Payment               0\n",
       "Sale                  0\n",
       "Previous_owners    1863\n",
       "Additions             0\n",
       "dtype: int64"
      ]
     },
     "execution_count": 11,
     "metadata": {},
     "output_type": "execute_result"
    }
   ],
   "source": [
    "df.isna().sum()"
   ]
  },
  {
   "cell_type": "code",
   "execution_count": 13,
   "metadata": {},
   "outputs": [
    {
     "data": {
      "text/plain": [
       "count      5001.0\n",
       "mean     2.097181\n",
       "std      1.748186\n",
       "min           0.0\n",
       "25%           1.0\n",
       "50%           2.0\n",
       "75%           3.0\n",
       "max          10.0\n",
       "Name: Previous_owners, dtype: Float64"
      ]
     },
     "execution_count": 13,
     "metadata": {},
     "output_type": "execute_result"
    }
   ],
   "source": [
    "df['Previous_owners'].describe()"
   ]
  },
  {
   "cell_type": "code",
   "execution_count": 14,
   "metadata": {},
   "outputs": [
    {
     "name": "stdout",
     "output_type": "stream",
     "text": [
      "2\n"
     ]
    }
   ],
   "source": [
    "mean_previous_owners = df['Previous_owners'].mean()\n",
    "print(mean_previous_owners.astype(int))\n",
    "\n",
    "df['Previous_owners'].fillna(mean_previous_owners.astype(int), inplace=True)"
   ]
  },
  {
   "cell_type": "code",
   "execution_count": 15,
   "metadata": {},
   "outputs": [
    {
     "data": {
      "text/plain": [
       "Car                   0\n",
       "Year                  0\n",
       "Price                 0\n",
       "Color                 0\n",
       "Fuel                  0\n",
       "Origin                0\n",
       "License               0\n",
       "Gear                  0\n",
       "Glass                 0\n",
       "Power                 0\n",
       "Meter              1941\n",
       "Passengers            0\n",
       "Payment               0\n",
       "Sale                  0\n",
       "Previous_owners       0\n",
       "Additions             0\n",
       "dtype: int64"
      ]
     },
     "execution_count": 15,
     "metadata": {},
     "output_type": "execute_result"
    }
   ],
   "source": [
    "df.isna().sum()"
   ]
  },
  {
   "cell_type": "code",
   "execution_count": 16,
   "metadata": {},
   "outputs": [],
   "source": [
    "df.to_csv('./data/CSV/data.csv', index=False)"
   ]
  }
 ],
 "metadata": {
  "kernelspec": {
   "display_name": "Python 3 (ipykernel)",
   "language": "python",
   "name": "python3"
  },
  "language_info": {
   "codemirror_mode": {
    "name": "ipython",
    "version": 3
   },
   "file_extension": ".py",
   "mimetype": "text/x-python",
   "name": "python",
   "nbconvert_exporter": "python",
   "pygments_lexer": "ipython3",
   "version": "3.12.0"
  }
 },
 "nbformat": 4,
 "nbformat_minor": 4
}
